{
 "cells": [
  {
   "cell_type": "code",
   "execution_count": 1,
   "metadata": {
    "collapsed": true
   },
   "outputs": [],
   "source": [
    "import pandas as pd\n",
    "import numpy as np\n",
    "from pandas import Series, DataFrame"
   ]
  },
  {
   "cell_type": "code",
   "execution_count": 2,
   "metadata": {
    "collapsed": true
   },
   "outputs": [],
   "source": [
    "\n",
    "db = pd.read_csv('Data.csv')"
   ]
  },
  {
   "cell_type": "code",
   "execution_count": 3,
   "metadata": {
    "collapsed": true
   },
   "outputs": [],
   "source": [
    "db.loc[(db['Response']==0) & (db['BMI']==0.0), \"BMI\"]=30.3042\n",
    "\n",
    "db.loc[(db['Response']==1) & (db['BMI']==0.0), \"BMI\"]=35.142537\n",
    "\n",
    "db.loc[(db['Response']==0) & (db['Insulin']==0.0), \"Insulin\"]=68.792\n",
    "\n",
    "db.loc[(db['Response']==1) & (db['Insulin']==0.0), \"Insulin\"]=100.335821\n",
    "\n",
    "db.loc[(db['Response'] == 0) & (db['Pglucose'] == 0.0), \"Pglucose\"]=109.98\n",
    "db.loc[(db['Response'] == 1) & (db['Pglucose'] == 0.0), \"Pglucose\"] =141.257463 \n",
    "\n",
    "db.loc[(db['Response']==0) & (db['Skin']==0.0), \"Skin\"]=19.664\n",
    "db.loc[(db['Response']==1) & (db['Skin']==0.0), \"Skin\"]=22.164\n",
    "\n",
    "db.loc[(db['Response']==0) & (db['DBP']==0.0), \"DBP\"]=68.184\n",
    "db.loc[(db['Response']==1) & (db['DBP']==0.0), \"DBP\"]=70.824627"
   ]
  },
  {
   "cell_type": "code",
   "execution_count": 4,
   "metadata": {
    "collapsed": false
   },
   "outputs": [],
   "source": [
    "data = DataFrame(np.zeros(768*24).reshape(768,24), columns = ['preg1','preg2','preg3','pg1','pg2','pg3','dbp1','dbp2','dbp3','skin1','skin2','skin3',\n",
    "                                                             'insulin1','insulin2','insulin3','bmi1','bmi2','bmi3','dpf1','dpf2','dpf3','age1','age2','age3'])\n",
    "data['Response'] = db['Response']\n",
    "#data.head()"
   ]
  },
  {
   "cell_type": "raw",
   "metadata": {
    "collapsed": true
   },
   "source": []
  },
  {
   "cell_type": "code",
   "execution_count": 5,
   "metadata": {
    "collapsed": false
   },
   "outputs": [],
   "source": [
    "for i in range(0,768):\n",
    "    if db.ix[i,'Preg']<=1:\n",
    "        data.loc[i,'preg1'] = 1\n",
    "    elif db.ix[i,'Preg']<=3:\n",
    "        data.loc[i,'preg2'] = 1\n",
    "    elif db.ix[i,'Preg']<=6:\n",
    "        data.loc[i,'preg3'] = 1\n",
    "    \n",
    "    if db.ix[i,'Pglucose']<=99.75:\n",
    "        data.loc[i,'pg1'] = 1\n",
    "    elif db.ix[i,'Pglucose']<=117:\n",
    "        data.loc[i,'pg2'] = 1\n",
    "    elif db.ix[i,'Pglucose']<=141:\n",
    "        data.loc[i,'pg3'] = 1\n",
    "    \n",
    "    if db.ix[i,'DBP']<=64:\n",
    "        data.loc[i,'dbp1'] = 1\n",
    "    elif db.ix[i,'DBP']<=72:\n",
    "        data.loc[i,'dbp2'] = 1\n",
    "    elif db.ix[i,'DBP']<=80:\n",
    "        data.loc[i,'dbp3'] = 1\n",
    "    \n",
    "    if db.ix[i,'Skin']<=19.664:\n",
    "        data.loc[i,'skin1'] = 1\n",
    "    elif db.ix[i,'Skin']<=23:\n",
    "        data.loc[i,'skin2'] = 1\n",
    "    elif db.ix[i,'Skin']<=32:\n",
    "        data.loc[i,'skin3'] = 1\n",
    "    \n",
    "    if db.ix[i,'Insulin']<=68.792:\n",
    "        data.loc[i,'insulin1'] = 1\n",
    "    elif db.ix[i,'Insulin']<=100:\n",
    "        data.loc[i,'insulin2'] = 1\n",
    "    elif db.ix[i,'Insulin']<=127.25:\n",
    "        data.loc[i,'insulin3'] = 1\n",
    "    \n",
    "    if db.ix[i,'BMI']<=27:\n",
    "        data.loc[i,'bmi1'] = 1\n",
    "    elif db.ix[i,'BMI']<=32:\n",
    "        data.loc[i,'bmi2'] = 1\n",
    "    elif db.ix[i,'BMI']<=36:\n",
    "        data.loc[i,'bmi3'] = 1\n",
    "    \n",
    "    if db.ix[i,'Dpfunc']<=0.24375:\n",
    "        data.loc[i,'dpf1'] = 1\n",
    "    elif db.ix[i,'Dpfunc']<=0.3725:\n",
    "        data.loc[i,'dpf2'] = 1\n",
    "    elif db.ix[i,'Dpfunc']<=0.62650:\n",
    "        data.loc[i,'dpf3'] = 1\n",
    "    \n",
    "    if db.ix[i, 'Age']<=24:\n",
    "        data.loc[i,'age1'] = 1\n",
    "    elif db.ix[i, 'Age'] <=29:\n",
    "        data.loc[i,'age2']=1\n",
    "    elif db.ix[i,'Age']<=41:\n",
    "        data.loc[i,'age3']=1"
   ]
  },
  {
   "cell_type": "code",
   "execution_count": 6,
   "metadata": {
    "collapsed": false
   },
   "outputs": [],
   "source": [
    "import random"
   ]
  },
  {
   "cell_type": "code",
   "execution_count": 7,
   "metadata": {
    "collapsed": false
   },
   "outputs": [],
   "source": [
    "data = data.iloc[np.random.permutation(len(data)-1)]\n",
    "train_indices = random.sample(range(0,768),576)\n",
    "test_indices = list()\n",
    "for i in range(0,len(data)):\n",
    "    if i in train_indices:\n",
    "        continue\n",
    "    else:\n",
    "        test_indices.append(i)\n"
   ]
  },
  {
   "cell_type": "code",
   "execution_count": 8,
   "metadata": {
    "collapsed": false
   },
   "outputs": [],
   "source": [
    "train_data = data.loc[train_indices]\n",
    "test_data  = data.loc[test_indices]\n",
    "train_data.reset_index(drop=True,inplace=True)\n",
    "test_data.reset_index(drop=True,inplace=True)"
   ]
  },
  {
   "cell_type": "code",
   "execution_count": 9,
   "metadata": {
    "collapsed": false
   },
   "outputs": [],
   "source": [
    "cols = list(data)\n",
    "cols.pop(24)\n",
    "cols.sort()"
   ]
  },
  {
   "cell_type": "code",
   "execution_count": 10,
   "metadata": {
    "collapsed": false
   },
   "outputs": [],
   "source": [
    "for col in cols:\n",
    "    test_data[col] = test_data[col].fillna(0).astype(int)\n",
    "    train_data[col] = train_data[col].fillna(0).astype(int)\n",
    "test_data['Response'] = test_data['Response'].fillna(0).astype(int)\n",
    "train_data['Response']=train_data['Response'].fillna(0).astype(int)"
   ]
  },
  {
   "cell_type": "code",
   "execution_count": 11,
   "metadata": {
    "collapsed": false
   },
   "outputs": [],
   "source": [
    "params_1 = list()\n",
    "params_0 = list()\n",
    "for col in cols:\n",
    "    params_1.append(train_data.groupby(train_data['Response'])[col].describe()[1][1])\n",
    "    params_0.append(train_data.groupby(train_data['Response'])[col].describe()[0][1])"
   ]
  },
  {
   "cell_type": "code",
   "execution_count": 12,
   "metadata": {
    "collapsed": false
   },
   "outputs": [
    {
     "data": {
      "text/plain": [
       "[0.10000000000000001,\n",
       " 0.20526315789473684,\n",
       " 0.35789473684210527,\n",
       " 0.057894736842105263,\n",
       " 0.25789473684210529,\n",
       " 0.28947368421052633,\n",
       " 0.16315789473684211,\n",
       " 0.28421052631578947,\n",
       " 0.26842105263157895,\n",
       " 0.17894736842105263,\n",
       " 0.25263157894736843,\n",
       " 0.22105263157894736,\n",
       " 0.031578947368421054,\n",
       " 0.04736842105263158,\n",
       " 0.59473684210526312,\n",
       " 0.052631578947368418,\n",
       " 0.18947368421052632,\n",
       " 0.26315789473684209,\n",
       " 0.22105263157894736,\n",
       " 0.15789473684210525,\n",
       " 0.25789473684210529,\n",
       " 0.042105263157894736,\n",
       " 0.40000000000000002,\n",
       " 0.23684210526315788]"
      ]
     },
     "execution_count": 12,
     "metadata": {},
     "output_type": "execute_result"
    }
   ],
   "source": [
    "params_0\n",
    "params_1"
   ]
  },
  {
   "cell_type": "code",
   "execution_count": 13,
   "metadata": {
    "collapsed": false
   },
   "outputs": [],
   "source": [
    "phi_1 = (train_data.groupby(train_data['Response'])['age1'].describe()[1][0])/len(train_data)\n",
    "phi_0 = 1 - phi_1"
   ]
  },
  {
   "cell_type": "code",
   "execution_count": 14,
   "metadata": {
    "collapsed": false
   },
   "outputs": [
    {
     "data": {
      "text/plain": [
       "0.67013888888888884"
      ]
     },
     "execution_count": 14,
     "metadata": {},
     "output_type": "execute_result"
    }
   ],
   "source": [
    "phi_1\n",
    "phi_0"
   ]
  },
  {
   "cell_type": "code",
   "execution_count": 15,
   "metadata": {
    "collapsed": false
   },
   "outputs": [],
   "source": [
    "backup = test_data\n",
    "resp = test_data['Response']\n",
    "test_data = test_data.drop('Response',axis=1).sort_index(axis=1)\n",
    "test_data['Response'] = resp"
   ]
  },
  {
   "cell_type": "code",
   "execution_count": 17,
   "metadata": {
    "collapsed": true
   },
   "outputs": [],
   "source": [
    "#Python doesn't have an in-buit product function so we have to define a user product function\n",
    "\n",
    "import operator\n",
    "def prod(iterable):\n",
    "    return reduce(operator.mul, iterable, 1)"
   ]
  },
  {
   "cell_type": "code",
   "execution_count": 18,
   "metadata": {
    "collapsed": false
   },
   "outputs": [],
   "source": [
    "predict=list()\n",
    "for i in range(0,len(test_data)):\n",
    "    test_p1=[sum(x) for x in zip(test_data.ix[i],params_1)]\n",
    "    test_p0=[sum(x) for x in zip(test_data.ix[i],params_0)]\n",
    "    \n",
    "    for j in range(0, len(test_p1)):\n",
    "        if test_p1[j]>1:\n",
    "            test_p1[j]-=1\n",
    "        elif test_p1[j]<1:\n",
    "            test_p1[j] = 1-test_p1[j]\n",
    "        \n",
    "        if test_p0[j]>1:\n",
    "            test_p0[j]-=1\n",
    "        elif test_p0[j]<1:\n",
    "            test_p0[j]=1-test_p0[j]\n",
    "            \n",
    "    p1 = (prod(test_p1)*phi_1)/((prod(test_p1)*phi_1)+(prod(test_p0)*phi_0))\n",
    "    p0 = (prod(test_p0)*phi_0)/((prod(test_p1)*phi_1)+(prod(test_p0)*phi_0))\n",
    "    \n",
    "    if p1 > p0:\n",
    "        predict.append(1)\n",
    "    else:\n",
    "        predict.append(0)"
   ]
  },
  {
   "cell_type": "code",
   "execution_count": 19,
   "metadata": {
    "collapsed": false
   },
   "outputs": [
    {
     "data": {
      "text/plain": [
       "0.84375"
      ]
     },
     "execution_count": 19,
     "metadata": {},
     "output_type": "execute_result"
    }
   ],
   "source": [
    "#Checking performance of classifier algorithm\n",
    "count = 0.0\n",
    "for i in range(0,len(test_data)):\n",
    "    if test_data.ix[i,'Response']==predict[i]:\n",
    "        count+=1\n",
    "count\n",
    "perform = count/len(test_data)\n",
    "perform\n",
    "    "
   ]
  },
  {
   "cell_type": "code",
   "execution_count": 20,
   "metadata": {
    "collapsed": false
   },
   "outputs": [],
   "source": [
    "#IMPLENTATION OF NAIVE BAYES USING SCI-KIT LEARN\n",
    "import sklearn\n",
    "from sklearn.naive_bayes import BernoulliNB\n",
    "gnb = BernoulliNB()"
   ]
  },
  {
   "cell_type": "code",
   "execution_count": null,
   "metadata": {
    "collapsed": false
   },
   "outputs": [],
   "source": []
  },
  {
   "cell_type": "code",
   "execution_count": 21,
   "metadata": {
    "collapsed": true
   },
   "outputs": [],
   "source": [
    "train = train_data.drop('Response',axis=1)\n",
    "test = test_data.drop('Response',axis=1)\n",
    "pred = gnb.fit(train,  train_data['Response']).predict(test)"
   ]
  },
  {
   "cell_type": "code",
   "execution_count": 22,
   "metadata": {
    "collapsed": false
   },
   "outputs": [
    {
     "data": {
      "text/plain": [
       "0.8072916666666666"
      ]
     },
     "execution_count": 22,
     "metadata": {},
     "output_type": "execute_result"
    }
   ],
   "source": [
    "#Checking performance of classifier algorithm\n",
    "count = 0.0\n",
    "for i in range(0,len(test_data)):\n",
    "    if test_data.ix[i,'Response']==pred[i]:\n",
    "        count+=1\n",
    "count\n",
    "perform = count/len(test_data)\n",
    "perform"
   ]
  },
  {
   "cell_type": "code",
   "execution_count": null,
   "metadata": {
    "collapsed": true
   },
   "outputs": [],
   "source": []
  },
  {
   "cell_type": "code",
   "execution_count": null,
   "metadata": {
    "collapsed": true
   },
   "outputs": [],
   "source": []
  },
  {
   "cell_type": "code",
   "execution_count": null,
   "metadata": {
    "collapsed": true
   },
   "outputs": [],
   "source": []
  }
 ],
 "metadata": {
  "kernelspec": {
   "display_name": "Python 2",
   "language": "python",
   "name": "python2"
  },
  "language_info": {
   "codemirror_mode": {
    "name": "ipython",
    "version": 2
   },
   "file_extension": ".py",
   "mimetype": "text/x-python",
   "name": "python",
   "nbconvert_exporter": "python",
   "pygments_lexer": "ipython2",
   "version": "2.7.11"
  }
 },
 "nbformat": 4,
 "nbformat_minor": 0
}
